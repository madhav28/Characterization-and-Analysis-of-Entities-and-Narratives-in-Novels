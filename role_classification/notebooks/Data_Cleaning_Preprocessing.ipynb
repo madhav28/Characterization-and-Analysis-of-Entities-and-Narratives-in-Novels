{
 "cells": [
  {
   "cell_type": "code",
   "execution_count": 6,
   "id": "7f8270f1",
   "metadata": {},
   "outputs": [],
   "source": [
    "import os\n",
    "import glob\n",
    "import pandas as pd\n",
    "from tqdm.notebook import tqdm\n",
    "import shutil\n",
    "import random\n",
    "\n",
    "tqdm.pandas()"
   ]
  },
  {
   "cell_type": "code",
   "execution_count": 7,
   "id": "1c67f24d",
   "metadata": {},
   "outputs": [],
   "source": [
    "def get_top_n_books(file_paths, n=1000):\n",
    "    \"\"\"\n",
    "    Given a list of file paths, select top 'n' books based on character count.\n",
    "    \"\"\"\n",
    "    book_lengths = []\n",
    "    for file_path in tqdm(file_paths, desc=f\"Calculating character counts for {n} books\"):\n",
    "        try:\n",
    "            with open(file_path, 'r', encoding='utf-8', errors='ignore') as file:\n",
    "                text = file.read()\n",
    "                char_count = len(text)\n",
    "                book_lengths.append((file_path, char_count))\n",
    "        except Exception as e:\n",
    "            print(f\"Error reading {file_path}: {e}\")\n",
    "    \n",
    "    # Sort books by character count in descending order\n",
    "    sorted_books = sorted(book_lengths, key=lambda x: x[1], reverse=True)\n",
    "    \n",
    "    # Select top 'n' books\n",
    "    top_n_books = sorted_books[:n]\n",
    "    \n",
    "    return [book[0] for book in top_n_books]  # Return file paths"
   ]
  },
  {
   "cell_type": "code",
   "execution_count": 8,
   "id": "b488f90d",
   "metadata": {},
   "outputs": [
    {
     "data": {
      "application/vnd.jupyter.widget-view+json": {
       "model_id": "2c52e71b54c04b7eaf33c1b279e8f667",
       "version_major": 2,
       "version_minor": 0
      },
      "text/plain": [
       "Calculating character counts for 1000 books:   0%|          | 0/3022 [00:00<?, ?it/s]"
      ]
     },
     "metadata": {},
     "output_type": "display_data"
    },
    {
     "name": "stdout",
     "output_type": "stream",
     "text": [
      "Error reading ../data/Gutenberg_original/Gutenberg/txt\\Charles Darwin___On the Origin of Species by Means of Natural Selection or the Preservation of Favoured Races in the Struggle for Life. (2nd edition).txt: [Errno 2] No such file or directory: '../data/Gutenberg_original/Gutenberg/txt\\\\Charles Darwin___On the Origin of Species by Means of Natural Selection or the Preservation of Favoured Races in the Struggle for Life. (2nd edition).txt'\n"
     ]
    }
   ],
   "source": [
    "# Define path to original text files\n",
    "DATA_PATH = '../data/Gutenberg_original/Gutenberg/txt/'\n",
    "\n",
    "# Get list of all text files\n",
    "txt_files = glob.glob(os.path.join(DATA_PATH, '*.txt'))\n",
    "\n",
    "# Select top 1,000 longest books\n",
    "top_1000_files = get_top_n_books(txt_files, n=1000)\n",
    "random.seed(42)\n",
    "# Select random 100 books from the top 1,000\n",
    "random_100_files = random.sample(top_1000_files, 100)"
   ]
  },
  {
   "cell_type": "code",
   "execution_count": 9,
   "id": "2c720d85",
   "metadata": {},
   "outputs": [
    {
     "data": {
      "application/vnd.jupyter.widget-view+json": {
       "model_id": "203b5e5e03a84f918e4d5d26baccc259",
       "version_major": 2,
       "version_minor": 0
      },
      "text/plain": [
       "Copying Selected 100 Books:   0%|          | 0/100 [00:00<?, ?it/s]"
      ]
     },
     "metadata": {},
     "output_type": "display_data"
    },
    {
     "name": "stdout",
     "output_type": "stream",
     "text": [
      "\n",
      "Selected 100 books have been copied successfully and saved to 'selected_100_books_list.csv'.\n"
     ]
    }
   ],
   "source": [
    "# ## 4. Saving the Selected 100 Books\n",
    "\n",
    "# Define directory to store the selected 100 books\n",
    "SELECTED_100_DIR = '../data/selected_100_books/'\n",
    "\n",
    "# Create the directory if it doesn't exist\n",
    "os.makedirs(SELECTED_100_DIR, exist_ok=True)\n",
    "\n",
    "# Initialize list to store book titles and their paths\n",
    "selected_books_info = []\n",
    "\n",
    "# Copy each of the top 100 books to the selected_100_books directory\n",
    "for file_path in tqdm(random_100_files, desc=\"Copying Selected 100 Books\"):\n",
    "    try:\n",
    "        # Extract the book title from the file name\n",
    "        book_title = os.path.basename(file_path).replace('.txt', '').replace('_', ' ')\n",
    "        \n",
    "        # Define the destination path\n",
    "        destination_path = os.path.join(SELECTED_100_DIR, f\"{book_title}.txt\")\n",
    "        \n",
    "        # Copy the file\n",
    "        shutil.copy(file_path, destination_path)\n",
    "        \n",
    "        # Append information to the list\n",
    "        selected_books_info.append({'book_title': book_title, 'file_path': destination_path})\n",
    "    except Exception as e:\n",
    "        print(f\"Error copying {file_path}: {e}\")\n",
    "\n",
    "# Convert the list to a DataFrame\n",
    "df_selected_books = pd.DataFrame(selected_books_info)\n",
    "\n",
    "# Save the list of selected books to a CSV file for future reference\n",
    "df_selected_books.to_csv('../data/selected_100_books_list.csv', index=False)\n",
    "\n",
    "# Display a confirmation message\n",
    "print(\"\\nSelected 100 books have been copied successfully and saved to 'selected_100_books_list.csv'.\")\n"
   ]
  },
  {
   "cell_type": "code",
   "execution_count": null,
   "id": "b6e4c43e",
   "metadata": {},
   "outputs": [],
   "source": []
  }
 ],
 "metadata": {
  "kernelspec": {
   "display_name": "Python 3 (ipykernel)",
   "language": "python",
   "name": "python3"
  },
  "language_info": {
   "codemirror_mode": {
    "name": "ipython",
    "version": 3
   },
   "file_extension": ".py",
   "mimetype": "text/x-python",
   "name": "python",
   "nbconvert_exporter": "python",
   "pygments_lexer": "ipython3",
   "version": "3.9.12"
  }
 },
 "nbformat": 4,
 "nbformat_minor": 5
}
